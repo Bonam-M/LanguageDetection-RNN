{
 "cells": [
  {
   "cell_type": "markdown",
   "id": "24f4a3ab",
   "metadata": {},
   "source": [
    "# Multiclass text classification using characters"
   ]
  },
  {
   "cell_type": "markdown",
   "id": "72b953de",
   "metadata": {},
   "source": [
    "## Prerequisites\n",
    "Make sure you have all you need on your machine:\n",
    "- Install or Update latest version Anaconda (conda package manager + many libraries) or Miniconda (just conda package manager)\n",
    "- Create a conda virtual environment with a specific version of python (conda create -n myvirtual_env python=3.10 )\n",
    "- Activate the environment (conda activate myvirtual_env)\n",
    "- Install Jupyter in your environment (conda install jupyter)\n",
    "- Install the required libraries (conda install pytorch=1.13.1 sklearn)\n",
    "- Install a python kernel in your environment (conda install ipykernel)\n",
    "- Configure Jupyter to use Python kernel (ipython kernel install --user --name=myvirtual_env-kernel)   \n",
    "- Open Jupyter notebook on a web page and start coding (jupyter notebook )\n"
   ]
  },
  {
   "cell_type": "markdown",
   "id": "b5883719",
   "metadata": {},
   "source": [
    "## Loading the data"
   ]
  },
  {
   "cell_type": "code",
   "execution_count": 1,
   "id": "f5aea8b7",
   "metadata": {},
   "outputs": [
    {
     "name": "stdout",
     "output_type": "stream",
     "text": [
      "['C:/Users/esspe/ML-Notebooks/BasicTextClassification/data/names\\\\Arabic.txt', 'C:/Users/esspe/ML-Notebooks/BasicTextClassification/data/names\\\\Chinese.txt', 'C:/Users/esspe/ML-Notebooks/BasicTextClassification/data/names\\\\Czech.txt', 'C:/Users/esspe/ML-Notebooks/BasicTextClassification/data/names\\\\Dutch.txt', 'C:/Users/esspe/ML-Notebooks/BasicTextClassification/data/names\\\\English.txt', 'C:/Users/esspe/ML-Notebooks/BasicTextClassification/data/names\\\\French.txt', 'C:/Users/esspe/ML-Notebooks/BasicTextClassification/data/names\\\\German.txt', 'C:/Users/esspe/ML-Notebooks/BasicTextClassification/data/names\\\\Greek.txt', 'C:/Users/esspe/ML-Notebooks/BasicTextClassification/data/names\\\\Irish.txt', 'C:/Users/esspe/ML-Notebooks/BasicTextClassification/data/names\\\\Italian.txt', 'C:/Users/esspe/ML-Notebooks/BasicTextClassification/data/names\\\\Japanese.txt', 'C:/Users/esspe/ML-Notebooks/BasicTextClassification/data/names\\\\Korean.txt', 'C:/Users/esspe/ML-Notebooks/BasicTextClassification/data/names\\\\Polish.txt', 'C:/Users/esspe/ML-Notebooks/BasicTextClassification/data/names\\\\Portuguese.txt', 'C:/Users/esspe/ML-Notebooks/BasicTextClassification/data/names\\\\Russian.txt', 'C:/Users/esspe/ML-Notebooks/BasicTextClassification/data/names\\\\Scottish.txt', 'C:/Users/esspe/ML-Notebooks/BasicTextClassification/data/names\\\\Spanish.txt', 'C:/Users/esspe/ML-Notebooks/BasicTextClassification/data/names\\\\Vietnamese.txt']\n"
     ]
    }
   ],
   "source": [
    "from io import open\n",
    "import glob                       ## used to find all files that have a specific pattern\n",
    "import os\n",
    "## Check the files that we have in the dataset\n",
    "datasetFiles = glob.glob('C:/Users/esspe/ML-Notebooks/BasicTextClassification/data/names/*.txt') ## adjust the path accordingly\n",
    "print(datasetFiles) "
   ]
  },
  {
   "cell_type": "markdown",
   "id": "410361d5",
   "metadata": {},
   "source": [
    "## Defining our vocabularies"
   ]
  },
  {
   "cell_type": "code",
   "execution_count": 2,
   "id": "e6567152",
   "metadata": {},
   "outputs": [
    {
     "data": {
      "text/plain": [
       "\"abcdefghijklmnopqrstuvwxyzABCDEFGHIJKLMNOPQRSTUVWXYZ .,;'\""
      ]
     },
     "execution_count": 2,
     "metadata": {},
     "output_type": "execute_result"
    }
   ],
   "source": [
    "import unicodedata\n",
    "import string\n",
    "all_letters = string.ascii_letters + \" .,;'\"      ## All letters and special characters we will recognize\n",
    "all_letters"
   ]
  },
  {
   "cell_type": "code",
   "execution_count": 3,
   "id": "8772d4b1",
   "metadata": {},
   "outputs": [
    {
     "data": {
      "text/plain": [
       "57"
      ]
     },
     "execution_count": 3,
     "metadata": {},
     "output_type": "execute_result"
    }
   ],
   "source": [
    "n_letters = len(all_letters)                      ## the size of our feature vector to one-hot encoder\n",
    "n_letters"
   ]
  },
  {
   "cell_type": "code",
   "execution_count": 4,
   "id": "3c88feb6",
   "metadata": {},
   "outputs": [],
   "source": [
    "language_names = {}             ## defines a dictionary all the names in a specific languages\n",
    "all_languages = []              ## defines a list of all the languages we ave in our dataset"
   ]
  },
  {
   "cell_type": "code",
   "execution_count": 5,
   "id": "313d2a96",
   "metadata": {},
   "outputs": [
    {
     "name": "stdout",
     "output_type": "stream",
     "text": [
      "Emile\n"
     ]
    }
   ],
   "source": [
    "## Helper function to convert all characters that are not included in our vocabulary to their closest ascii equivalent\n",
    "def unicodeToAscii(s):\n",
    "    return ''.join(\n",
    "                   c for c in unicodedata.normalize('NFD', s)\n",
    "                   if unicodedata.category(c) != 'Mn'\n",
    "                   and c in all_letters\n",
    "    )\n",
    "\n",
    "## Check the function with a random character \n",
    "print(unicodeToAscii('Émile'))"
   ]
  },
  {
   "cell_type": "code",
   "execution_count": 6,
   "id": "2f80bb6f",
   "metadata": {},
   "outputs": [],
   "source": [
    "## Helper function to easily find all text files in a specified folder\n",
    "def findFiles(path):\n",
    "    return glob.glob(path)"
   ]
  },
  {
   "cell_type": "code",
   "execution_count": 7,
   "id": "a1d214a5",
   "metadata": {},
   "outputs": [],
   "source": [
    "## Let's populate the dictionnary that we have defined previously\n",
    "total_names = 0                                                                                     ## define a variable to track the number of names in a specific dataset\n",
    "\n",
    "for filename in findFiles ('C:/Users/esspe/ML-Notebooks/BasicTextClassification/data/names/*.txt'): ## create a loop to read all the files in a specific folder amd find the basename\n",
    "    language = os.path.splitext(os.path.basename(filename))[0]                                      ## the name of the file excludig the .txt extenson contains the language itself\n",
    "    all_languages.append(language)                                                                  ## append all the languages in a list \n",
    "    read_names = open(filename, encoding='utf-8').read().strip().split('\\n')                        ## read the content of each file, strip any unnecessary characters and split the content on the return character \\n\n",
    "    names = [unicodeToAscii(line) for line in read_names]                                           ## convert all the names that in the files in ascii format and save in a list\n",
    "    language_names[language] = names                                                                ## associate all names to their language \n",
    "    total_names += len(names)                                                                       ## update the total_names variable by adding every name found in the files\n",
    "    "
   ]
  },
  {
   "cell_type": "code",
   "execution_count": 8,
   "id": "ff45044c",
   "metadata": {},
   "outputs": [
    {
     "data": {
      "text/plain": [
       "['Arabic',\n",
       " 'Chinese',\n",
       " 'Czech',\n",
       " 'Dutch',\n",
       " 'English',\n",
       " 'French',\n",
       " 'German',\n",
       " 'Greek',\n",
       " 'Irish',\n",
       " 'Italian',\n",
       " 'Japanese',\n",
       " 'Korean',\n",
       " 'Polish',\n",
       " 'Portuguese',\n",
       " 'Russian',\n",
       " 'Scottish',\n",
       " 'Spanish',\n",
       " 'Vietnamese']"
      ]
     },
     "execution_count": 8,
     "metadata": {},
     "output_type": "execute_result"
    }
   ],
   "source": [
    "## Check all the languages in our dataset\n",
    "all_languages"
   ]
  },
  {
   "cell_type": "code",
   "execution_count": 9,
   "id": "818a8433",
   "metadata": {},
   "outputs": [
    {
     "data": {
      "text/plain": [
       "18"
      ]
     },
     "execution_count": 9,
     "metadata": {},
     "output_type": "execute_result"
    }
   ],
   "source": [
    "## Check the total number of languages in our dataset\n",
    "n_languages = len(all_languages)\n",
    "n_languages"
   ]
  },
  {
   "cell_type": "code",
   "execution_count": 10,
   "id": "a4587f37",
   "metadata": {},
   "outputs": [
    {
     "data": {
      "text/plain": [
       "20074"
      ]
     },
     "execution_count": 10,
     "metadata": {},
     "output_type": "execute_result"
    }
   ],
   "source": [
    "## Check the total number of names in our dataset\n",
    "total_names"
   ]
  },
  {
   "cell_type": "code",
   "execution_count": 11,
   "id": "6f2560c9",
   "metadata": {},
   "outputs": [
    {
     "name": "stdout",
     "output_type": "stream",
     "text": [
      "Here are some Czech names:\n",
      "['Abl', 'Adsit', 'Ajdrna', 'Alt', 'Antonowitsch']\n",
      "Here are some Korean names:\n",
      "['Ahn', 'Baik', 'Bang', 'Byon', 'Cha']\n"
     ]
    }
   ],
   "source": [
    "## Check a few names in our dataset\n",
    "print(\"Here are some Czech names:\")\n",
    "print(language_names['Czech'][:5])\n",
    "print(\"Here are some Korean names:\")\n",
    "print(language_names['Korean'][:5])"
   ]
  },
  {
   "cell_type": "markdown",
   "id": "e21fd82a",
   "metadata": {},
   "source": [
    "## Prepocessing the data"
   ]
  },
  {
   "cell_type": "code",
   "execution_count": 12,
   "id": "d4900085",
   "metadata": {},
   "outputs": [],
   "source": [
    "import torch"
   ]
  },
  {
   "cell_type": "code",
   "execution_count": 13,
   "id": "96c01412",
   "metadata": {},
   "outputs": [],
   "source": [
    "## Helper function that converts every letter or character in a name to its one-hot encoder equivalent\n",
    "def letterToTensor(letter):\n",
    "    tensor = torch.zeros(1,n_letters)          ## for every letter, we initialize a feature vector of all 0 and the lenght is the total number of characters in our vocabulary\n",
    "    tensor[0][all_letters.find(letter)] = 1    ## to hot-encode the letter, we set to 1 the index of the letter in the vocabulary\n",
    "    return tensor                              ## return the one-hot encoder form of the letter provided as input"
   ]
  },
  {
   "cell_type": "code",
   "execution_count": 14,
   "id": "d5469c7d",
   "metadata": {},
   "outputs": [
    {
     "name": "stdout",
     "output_type": "stream",
     "text": [
      "tensor([[1., 0., 0., 0., 0., 0., 0., 0., 0., 0., 0., 0., 0., 0., 0., 0., 0., 0.,\n",
      "         0., 0., 0., 0., 0., 0., 0., 0., 0., 0., 0., 0., 0., 0., 0., 0., 0., 0.,\n",
      "         0., 0., 0., 0., 0., 0., 0., 0., 0., 0., 0., 0., 0., 0., 0., 0., 0., 0.,\n",
      "         0., 0., 0.]])\n",
      "tensor([[0., 0., 0., 0., 0., 0., 0., 0., 0., 0., 0., 0., 0., 0., 0., 0., 0., 0.,\n",
      "         0., 0., 0., 0., 0., 0., 0., 0., 0., 0., 0., 0., 0., 0., 0., 0., 0., 0.,\n",
      "         0., 0., 0., 0., 0., 0., 0., 0., 0., 0., 0., 0., 0., 0., 0., 1., 0., 0.,\n",
      "         0., 0., 0.]])\n"
     ]
    }
   ],
   "source": [
    "## Check the function with some examples\n",
    "print(letterToTensor('a'))\n",
    "print(letterToTensor('Z'))"
   ]
  },
  {
   "cell_type": "code",
   "execution_count": 15,
   "id": "852e8f4b",
   "metadata": {},
   "outputs": [],
   "source": [
    "## Helper function to have each indivual name in our dataset i tensor format\n",
    "def nameToTensor(name):\n",
    "    tensor = torch.zeros(len(name), 1, n_letters)       ## for every letter in the input name, we initialize a feature vector of all 0 and the lenght is the total number of characters in our vocabulary\n",
    "    \n",
    "    for li, letter in enumerate(name):                  ## enumerate through all the characters in the input name and find the corresponding index \n",
    "        tensor[li][0][all_letters.find(letter)] = 1     ## to hot-encode the letter, we set to 1 the index of the letter in the vocabulary\n",
    "        \n",
    "    return tensor"
   ]
  },
  {
   "cell_type": "code",
   "execution_count": 16,
   "id": "7413e723",
   "metadata": {},
   "outputs": [
    {
     "data": {
      "text/plain": [
       "torch.Size([4, 1, 57])"
      ]
     },
     "execution_count": 16,
     "metadata": {},
     "output_type": "execute_result"
    }
   ],
   "source": [
    "## Check the function with some examples\n",
    "mary_tensor =  nameToTensor('Mary')\n",
    "mary_tensor.size() \n",
    "\n",
    "## Expected result: torch.Size([4, 1, 57])\n",
    "## there are 4 characters in the name Mary\n",
    "## the additional dimension of 1 is the format that the RNN expects\n",
    "## 57 is the size of the one-hot encoded feature vector\n"
   ]
  },
  {
   "cell_type": "code",
   "execution_count": 17,
   "id": "d494f515",
   "metadata": {},
   "outputs": [
    {
     "data": {
      "text/plain": [
       "tensor([[[0., 0., 0., 0., 0., 0., 0., 0., 0., 0., 0., 0., 0., 0., 0., 0., 0.,\n",
       "          0., 0., 0., 0., 0., 0., 0., 0., 0., 0., 0., 0., 0., 0., 0., 0., 0.,\n",
       "          0., 0., 0., 0., 1., 0., 0., 0., 0., 0., 0., 0., 0., 0., 0., 0., 0.,\n",
       "          0., 0., 0., 0., 0., 0.]],\n",
       "\n",
       "        [[1., 0., 0., 0., 0., 0., 0., 0., 0., 0., 0., 0., 0., 0., 0., 0., 0.,\n",
       "          0., 0., 0., 0., 0., 0., 0., 0., 0., 0., 0., 0., 0., 0., 0., 0., 0.,\n",
       "          0., 0., 0., 0., 0., 0., 0., 0., 0., 0., 0., 0., 0., 0., 0., 0., 0.,\n",
       "          0., 0., 0., 0., 0., 0.]],\n",
       "\n",
       "        [[0., 0., 0., 0., 0., 0., 0., 0., 0., 0., 0., 0., 0., 0., 0., 0., 0.,\n",
       "          1., 0., 0., 0., 0., 0., 0., 0., 0., 0., 0., 0., 0., 0., 0., 0., 0.,\n",
       "          0., 0., 0., 0., 0., 0., 0., 0., 0., 0., 0., 0., 0., 0., 0., 0., 0.,\n",
       "          0., 0., 0., 0., 0., 0.]],\n",
       "\n",
       "        [[0., 0., 0., 0., 0., 0., 0., 0., 0., 0., 0., 0., 0., 0., 0., 0., 0.,\n",
       "          0., 0., 0., 0., 0., 0., 0., 1., 0., 0., 0., 0., 0., 0., 0., 0., 0.,\n",
       "          0., 0., 0., 0., 0., 0., 0., 0., 0., 0., 0., 0., 0., 0., 0., 0., 0.,\n",
       "          0., 0., 0., 0., 0., 0.]]])"
      ]
     },
     "execution_count": 17,
     "metadata": {},
     "output_type": "execute_result"
    }
   ],
   "source": [
    "mary_tensor"
   ]
  },
  {
   "cell_type": "markdown",
   "id": "24279975",
   "metadata": {},
   "source": [
    "## Designing the Recurrent Neural Network  \n",
    "### that will classify the names in specific categories, in this case the categories are the languages"
   ]
  },
  {
   "cell_type": "code",
   "execution_count": 18,
   "id": "d9e270f7",
   "metadata": {},
   "outputs": [],
   "source": [
    "import torch.nn as nn\n",
    "class RNN(nn.Module):\n",
    "\n",
    "   ## In this process, we are managing the hidden state ourselves, we track it, add it to the input state and return it to the user \n",
    "    def __init__(self, data_size, hidden_size, output_size):         ## create the RNN class that derives from nn module base class\n",
    "        super(RNN, self).__init__()                                  ## the inputs parameters of the class: data_size is the size of our one-hot encoder feature vector; hidden_size is a RNN dimensionality, output_size is the number of categories that we have \n",
    "\n",
    "        self.hidden_size = hidden_size\n",
    "        input_size = data_size + hidden_size\n",
    "\n",
    "        self.i2h = nn.Linear(input_size, hidden_size)                ## i2h = input to hidden, gets the next hidden state from the current input and previous hidden state\n",
    "        self.i2o = nn.Linear(input_size, output_size)               ## i2o = input to output, gets the next output state from the current input and previous hidden state\n",
    "        self.softmax = nn.LogSoftmax(dim=1)                          ## LogSoftmax is a classic layer for classification operations\n",
    " \n",
    "\n",
    "    def forward(self, input, hidden):                            ## function that performs the forward path to our RNN using the current input character and the previous hidden state\n",
    "        combined = torch.cat((input, hidden), 1)                    ## concatenate the current input with the previous hidden state to get a single tensor\n",
    "        hidden = self.i2h(combined)                                     ## we pass the tensor (input) to the i2h layer to get the next hidden state of our RNN\n",
    "        output = self.i2o(combined)                                    ## we pass the same tensor (input) to the i2o layer to get the next output state of out RNN \n",
    "        output = self.softmax(output)                                ## we apply the logSoftmax function to the output state\n",
    "        return output, hidden                                        ## we return the output state and the current hidden state. This the new hidden state after the current character was processed #    def forward(self, input, hidden):                                   ## functions that performs the forward path to our RNN using the current input character and the previous hidden state\n",
    "  \n",
    "    \n",
    "    def initHidden(self):\n",
    "        return torch.zeros(1,self.hidden_size)                        ## we initialize the first hidden state to zero\n",
    "\n",
    "## Our RNN has memory since we are tracking the hidden state \n"
   ]
  },
  {
   "cell_type": "code",
   "execution_count": 19,
   "id": "760cde99",
   "metadata": {},
   "outputs": [],
   "source": [
    "## Let's instantiate the RNN and work with it\n",
    "n_hidden = 256\n",
    "rnn = RNN(n_letters, n_hidden, n_languages)    ## input_size is our characters vocabulary n_letters, hidden_size is 256, output_size is the total number of languages"
   ]
  },
  {
   "cell_type": "code",
   "execution_count": 20,
   "id": "01c7ee2e",
   "metadata": {},
   "outputs": [
    {
     "name": "stdout",
     "output_type": "stream",
     "text": [
      "output size = torch.Size([1, 18])\n",
      "next_hidden size = torch.Size([1, 256])\n"
     ]
    }
   ],
   "source": [
    "## Here is an example to show the steps of the training process\n",
    "inp = letterToTensor('C')                           ## convert a single character such as \"C\" to it one-hot encoded form in this case using letterToTensor\n",
    "hidden = torch.zeros(1, n_hidden)                   ## set the initial hidden state at zero since we have no previous hidden state for the first characters\n",
    "output, next_hidden = rnn(inp, hidden)              ## apply the rnn to a single character to get the output and the next hidden size\n",
    "\n",
    "print ('output size =', output.size())\n",
    "print ('next_hidden size =', next_hidden.size())"
   ]
  },
  {
   "cell_type": "code",
   "execution_count": 21,
   "id": "8f373a73",
   "metadata": {},
   "outputs": [],
   "source": [
    "## Another example where we pass the first character of a random name\n",
    "inp = nameToTensor('Charron')\n",
    "hidden = torch.zeros(1, n_hidden)\n",
    "output, next_hidden = rnn(inp[0], hidden)"
   ]
  },
  {
   "cell_type": "code",
   "execution_count": 22,
   "id": "bc8bcece",
   "metadata": {},
   "outputs": [
    {
     "name": "stdout",
     "output_type": "stream",
     "text": [
      "tensor([[-2.9180, -2.8230, -2.8694, -2.8964, -2.8588, -2.9099, -2.8834, -2.9096,\n",
      "         -2.9124, -2.8783, -2.9379, -2.8849, -2.8857, -2.8807, -2.9762, -2.8620,\n",
      "         -2.8493, -2.9012]], grad_fn=<LogSoftmaxBackward0>)\n"
     ]
    }
   ],
   "source": [
    "print(output)"
   ]
  },
  {
   "cell_type": "markdown",
   "id": "018d7864",
   "metadata": {},
   "source": [
    "## Setting up a few helper functions"
   ]
  },
  {
   "cell_type": "code",
   "execution_count": 23,
   "id": "235cfca9",
   "metadata": {},
   "outputs": [],
   "source": [
    "\n",
    "def languageFromOutput(output):                        ##function to find the language of a given output\n",
    "    _, top_i = output.topk(1)                          ## top_i will be the index of highest value of the output \n",
    "    language_i = top_i[0].item()                       ## find the index of the predicted language (language_i) using top_i\n",
    "    return all_languages[language_i], language_i       ## find the language in the list of all languages using language_i "
   ]
  },
  {
   "cell_type": "code",
   "execution_count": 24,
   "id": "c4b2424b",
   "metadata": {},
   "outputs": [
    {
     "name": "stdout",
     "output_type": "stream",
     "text": [
      "('Chinese', 1)\n"
     ]
    }
   ],
   "source": [
    "## Check that the helper function works correctly\n",
    "print(languageFromOutput(output))"
   ]
  },
  {
   "cell_type": "code",
   "execution_count": 25,
   "id": "03b37173",
   "metadata": {},
   "outputs": [],
   "source": [
    "## In order to train our RNN, we will randomly pick a number of names and their coresponding languages, feed it to the RNN and adjust the model weights\n",
    "import random\n",
    "\n",
    "def randomTrainingExample():                                                           \n",
    "    random_language_index = random.randint(0, n_languages-1)                            ## select a language at random and assign it to the variable language\n",
    "    language = all_languages[random_language_index]\n",
    "    \n",
    "    random_language_names = language_names[language]                                    ## select a name at random and assign it to the variable name\n",
    "    name = random_language_names[random.randint(0,len(random_language_names)-1)]\n",
    "    \n",
    "    language_tensor = torch.tensor([all_languages.index(language)], dtype=torch.long)   ## once we have a language and a name selected, we convert them to a tensor format\n",
    "    name_tensor = nameToTensor(name)\n",
    "    \n",
    "    return language, name, language_tensor, name_tensor"
   ]
  },
  {
   "cell_type": "code",
   "execution_count": 26,
   "id": "e7d41c83",
   "metadata": {},
   "outputs": [
    {
     "name": "stdout",
     "output_type": "stream",
     "text": [
      "language= Chinese , name= Tao\n",
      "language= Arabic , name= Seif\n",
      "language= Scottish , name= Fraser\n",
      "language= Portuguese , name= Ferreiro\n",
      "language= English , name= Aderson\n",
      "language= Portuguese , name= Mateus\n",
      "language= Spanish , name= Bustos\n",
      "language= Scottish , name= Fraser\n",
      "language= Spanish , name= Dominguez\n",
      "language= German , name= Leitz\n"
     ]
    }
   ],
   "source": [
    "## Check that the helper function works correctly\n",
    "for i in range (10):\n",
    "    language, name, language_tensor, name_tensor = randomTrainingExample()\n",
    "    \n",
    "    print('language=', language, ', name=', name)\n",
    "    "
   ]
  },
  {
   "cell_type": "markdown",
   "id": "845cb3cc",
   "metadata": {},
   "source": [
    "## Training the RNN model"
   ]
  },
  {
   "cell_type": "code",
   "execution_count": 27,
   "id": "318cb1eb",
   "metadata": {},
   "outputs": [],
   "source": [
    "## The last layer of our RNN was the LogSoft Max layer, so we will use the NLLLoss to train our RNN\n",
    "## Choose a learning reate and adjust as needed\n",
    "criterion = nn.NLLLoss()\n",
    "learning_rate = 0.005"
   ]
  },
  {
   "cell_type": "code",
   "execution_count": 28,
   "id": "be15a483",
   "metadata": {},
   "outputs": [],
   "source": [
    "## helper function to train the model\n",
    "def train (language_tensor, name_tensor):              ## language and name are the inpus we need\n",
    "    hidden = rnn.initHidden()                          ## initialize th ehidden state to be all zeros\n",
    "    rnn.zero_grad()                                    ## we set the gradient at zero\n",
    "    \n",
    "    for i in range (name_tensor.size()[0]):            ## run the function for all the characters of the input name\n",
    "        output, hidden = rnn(name_tensor[i], hidden)   ## for every character in our input name, we parse it into the RNN with its current weight and we also parse in the previous weight\n",
    "                                                       ## this will give us the current output and the current hidden state of the RNN\n",
    "    loss = criterion(output, language_tensor)          ## once the loop is complete, we have the final output of the RNN for a particular name, we compare it with the language tensor that contains our actual language labels\n",
    "    loss.backward()                                    ## once the loss has been calculated, we mak ea backward pass to our RNN to calculate gradients\n",
    "    \n",
    "    for p in rnn.parameters():                         ## we use the gradients to update our model parameters\n",
    "        p.data.add_(-learning_rate, p.grad.data)       ## we multiply th egradients using the learning rate\n",
    "        \n",
    "    return output, loss.item()"
   ]
  },
  {
   "cell_type": "code",
   "execution_count": 34,
   "id": "f093e15c",
   "metadata": {},
   "outputs": [],
   "source": [
    "## Setting up the variables to be ready to train \n",
    "\n",
    "n_iters = 100000     ## we want to train our model on 20 000 names, so some of the language-name pairs will be pass through more than once \n",
    "current_loss = 0     ## initialize 2 variables to keep track of the current loss and all of the losses during the training process\n",
    "all_losses= []\n"
   ]
  },
  {
   "cell_type": "code",
   "execution_count": 35,
   "id": "c8d00c90",
   "metadata": {},
   "outputs": [
    {
     "name": "stdout",
     "output_type": "stream",
     "text": [
      "5000 5% 5.2817 Lis / Chinese NOT OK (Polish)\n",
      "10000 10% 1.0652 Panek / Czech OK\n",
      "15000 15% 2.7534 Manfredonia / Greek NOT OK (Italian)\n",
      "20000 20% 3.8643 Till / Vietnamese NOT OK (Czech)\n",
      "25000 25% 2.1228 Finch / Czech NOT OK (English)\n",
      "30000 30% 0.4369 Ruadhain / Irish OK\n",
      "35000 35% 2.0416 Kieu / Chinese NOT OK (Vietnamese)\n",
      "40000 40% 1.4876 Tahan / Irish NOT OK (Arabic)\n",
      "45000 45% 0.5705 Capello / Italian OK\n",
      "50000 50% 1.7262 Tuma / Japanese NOT OK (Arabic)\n",
      "55000 55% 0.1559 Luong / Vietnamese OK\n",
      "60000 60% 0.2619 Jiu / Chinese OK\n",
      "65000 65% 0.6907 Kunik / Czech OK\n",
      "70000 70% 0.1365 Badikoff / Russian OK\n",
      "75000 75% 0.4953 Trinh / Vietnamese OK\n",
      "80000 80% 0.6398 Dasios / Greek OK\n",
      "85000 85% 0.5555 Schoorl / Dutch OK\n",
      "90000 90% 0.4986 Banh / Vietnamese OK\n",
      "95000 95% 0.3348 Ri / Korean OK\n",
      "100000 100% 5.2843 Tourna / Italian NOT OK (Greek)\n"
     ]
    }
   ],
   "source": [
    "## Let's run a major for loop to train our model\n",
    "for result in range (1, n_iters + 1):                                               ## the loop will parse through 100 000 iterations as defined earlier\n",
    "    language, name, language_tensor, name_tensor = randomTrainingExample()          ## for each iteration we will pick a sample at random\n",
    "    \n",
    "    output, loss = train (language_tensor, name_tensor)                             ## invoke the train function which will parse the random sample throug our neural network and train it\n",
    "    current_loss += loss                                                            ## keep track of the current loss\n",
    "    \n",
    "    if result % 5000 == 0:                                                         ## after every 5 000 samples parsed through the RNN, let's see how our RNN is working\n",
    "        guess, guess_i = languageFromOutput(output)                                 ## we get the predicted label from the RNN for this partcicular example\n",
    "        correct_guess = 'OK' if guess == language else 'NOT OK (%s)' % language\n",
    "                                                                                    ## we print out the actual label VS the predicted label\n",
    "        print ('%d %d%% %.4f %s / %s %s' % (result,                                   \n",
    "                                         result / n_iters * 100,\n",
    "                                         loss,\n",
    "                                         name,\n",
    "                                         guess,\n",
    "                                         correct_guess))\n",
    "        \n",
    "        if result % 1000 == 0:\n",
    "            all_losses.append(current_loss / 1000)                                  ## we will keep track of the loss of the neural network every 1000 iteration\n",
    "            current_loss = 0"
   ]
  },
  {
   "cell_type": "code",
   "execution_count": 36,
   "id": "f6ec225a",
   "metadata": {},
   "outputs": [
    {
     "data": {
      "image/png": "[encoded data removed]",
      "text/plain": [
       "<Figure size 1000x800 with 1 Axes>"
      ]
     },
     "metadata": {},
     "output_type": "display_data"
    }
   ],
   "source": [
    "## Let's use the matplotlib library to visualize the loss value through the iterations\n",
    "\n",
    "import matplotlib.pyplot as plt\n",
    "\n",
    "plt.figure(figsize=(10, 8))\n",
    "plt.plot(all_losses)\n",
    "plt.show()\n",
    "\n",
    "## we can see that the loss value falls sharply at first then fluctuates at the end"
   ]
  },
  {
   "cell_type": "markdown",
   "id": "1aaf7aed",
   "metadata": {},
   "source": [
    "## Testing the model "
   ]
  },
  {
   "cell_type": "code",
   "execution_count": 37,
   "id": "51471dd5",
   "metadata": {},
   "outputs": [],
   "source": [
    "## We will use the RNN model to predict the language of names that were not in the training data set\n",
    "\n",
    "n_predictions = 3   ## The model should give 3 predictions for each name given as input"
   ]
  },
  {
   "cell_type": "code",
   "execution_count": 44,
   "id": "637d9805",
   "metadata": {},
   "outputs": [],
   "source": [
    "input_name= 'Batsakis'    ## This is a greek name "
   ]
  },
  {
   "cell_type": "code",
   "execution_count": 45,
   "id": "7838615c",
   "metadata": {},
   "outputs": [
    {
     "name": "stdout",
     "output_type": "stream",
     "text": [
      "(-0.10) Greek\n",
      "(-2.62) Russian\n",
      "(-5.24) French\n"
     ]
    }
   ],
   "source": [
    "with torch.no_grad():                                             ## for model evaluation we don't calculate the gradient\n",
    "    name_tensor = nameToTensor(input_name)                        ## cnvert the input name to a tensor format\n",
    "    \n",
    "    hidden = rnn.initHidden()                                     ## initialize the hidden state to all zeros\n",
    "    for i in range (name_tensor.size()[0]):                       ## feed in the input name character by character to the RNN\n",
    "        output, hidden = rnn(name_tensor[i], hidden)              ## we get the hidden state for each character and feed it back when we parse in the next character as input to the RNN\n",
    "    topv, topi = output.topk(n_predictions, 1, True)              ## use the output.topk function to get the top 3 predictions from the model\n",
    "    \n",
    "    for i in range (n_predictions):                               ## iterate through all the language predictions\n",
    "        value = topv[0][i].item()\n",
    "        language_index = topi[0][i].item()                        ## get the language index and print the language on screen\n",
    "        \n",
    "        print('(%.2f) %s' % (value, all_languages[language_index]))\n",
    "\n",
    "## Change the input name and run the script to see how the model behaves and evaluate the quality of the predictions"
   ]
  },
  {
   "cell_type": "code",
   "execution_count": null,
   "id": "533b2f27",
   "metadata": {},
   "outputs": [],
   "source": []
  }
 ],
 "metadata": {
  "kernelspec": {
   "display_name": "testenv",
   "language": "python",
   "name": "testenv"
  },
  "language_info": {
   "codemirror_mode": {
    "name": "ipython",
    "version": 3
   },
   "file_extension": ".py",
   "mimetype": "text/x-python",
   "name": "python",
   "nbconvert_exporter": "python",
   "pygments_lexer": "ipython3",
   "version": "3.10.9"
  }
 },
 "nbformat": 4,
 "nbformat_minor": 5
}
